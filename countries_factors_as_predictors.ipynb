{
 "cells": [
  {
   "cell_type": "code",
   "execution_count": 1,
   "metadata": {},
   "outputs": [],
   "source": [
    "import pandas as pd\n",
    "import numpy as np\n",
    "import seaborn as sns\n",
    "from matplotlib import pyplot as plt"
   ]
  },
  {
   "cell_type": "code",
   "execution_count": 2,
   "metadata": {},
   "outputs": [],
   "source": [
    "from sklearn import linear_model\n",
    "from sklearn.metrics import mean_squared_error\n",
    "from math import sqrt\n",
    "from sklearn import preprocessing\n"
   ]
  },
  {
   "cell_type": "code",
   "execution_count": 3,
   "metadata": {},
   "outputs": [],
   "source": [
    "pd.set_option('display.max_rows', 999)\n",
    "pd.set_option('display.max_columns', 999)"
   ]
  },
  {
   "cell_type": "code",
   "execution_count": 4,
   "metadata": {},
   "outputs": [],
   "source": [
    "# source: https://www.kaggle.com/sudalairajkumar/novel-corona-virus-2019-dataset#COVID19_line_list_data.csv\n",
    "cor = pd.read_csv('comprehensive_dataset_updated_03_20/covid_19_data.csv')"
   ]
  },
  {
   "cell_type": "code",
   "execution_count": 24,
   "metadata": {},
   "outputs": [],
   "source": [
    "# source: https://www.kaggle.com/imdevskp/ebola-outbreak-20142016-complete-dataset#ebola_2014_2016_clean.csv\n",
    "ebola = pd.read_csv('ebola-outbreak-20142016-complete-dataset/ebola_2014_2016_clean.csv')"
   ]
  },
  {
   "cell_type": "code",
   "execution_count": 6,
   "metadata": {},
   "outputs": [],
   "source": [
    "# source: https://www.kaggle.com/imdevskp/mers-outbreak-dataset-20122019#country_count_latest.csv\n",
    "mers = pd.read_csv('mers-outbreak-dataset-20122019-week/country_count_latest.csv')"
   ]
  },
  {
   "cell_type": "code",
   "execution_count": 7,
   "metadata": {},
   "outputs": [],
   "source": [
    "# source: https://www.kaggle.com/imdevskp/sars-outbreak-2003-complete-dataset#sars_2003_complete_dataset_clean.csv\n",
    "sars = pd.read_csv('sars-outbreak-2003-complete-dataset/sars_2003_complete_dataset_clean.csv')"
   ]
  },
  {
   "cell_type": "code",
   "execution_count": 8,
   "metadata": {},
   "outputs": [],
   "source": [
    "# source: https://en.wikipedia.org/wiki/List_of_countries_by_life_expectancy\n",
    "life_exp = pd.read_csv('life_expectancy.csv', encoding= 'unicode_escape')"
   ]
  },
  {
   "cell_type": "code",
   "execution_count": 9,
   "metadata": {},
   "outputs": [],
   "source": [
    "# source: https://en.wikipedia.org/wiki/List_of_countries_by_age_structure\n",
    "popage = pd.read_csv('population_age.csv', encoding= 'unicode_escape')"
   ]
  },
  {
   "cell_type": "code",
   "execution_count": 10,
   "metadata": {},
   "outputs": [],
   "source": [
    "# source: https://en.wikipedia.org/wiki/List_of_countries_and_dependencies_by_population_density\n",
    "popden = pd.read_csv('population_density.csv', encoding= 'unicode_escape')"
   ]
  },
  {
   "cell_type": "markdown",
   "metadata": {},
   "source": [
    "#### Clean mers"
   ]
  },
  {
   "cell_type": "code",
   "execution_count": 11,
   "metadata": {},
   "outputs": [],
   "source": [
    "mers = mers.rename(columns={'Confirmed':'mers_confirmed'})\n",
    "mers.loc[mers['Country'] == 'United States of America', 'Country'] = 'US'"
   ]
  },
  {
   "cell_type": "markdown",
   "metadata": {},
   "source": [
    "#### sars data preprocessing"
   ]
  },
  {
   "cell_type": "code",
   "execution_count": 12,
   "metadata": {},
   "outputs": [],
   "source": [
    "sars = sars.rename(columns={'Cumulative number of case(s)':'sars_confirmed', 'Number of deaths':'sars_deaths', 'Number recovered':'sars_recovered'})"
   ]
  },
  {
   "cell_type": "code",
   "execution_count": 13,
   "metadata": {},
   "outputs": [],
   "source": [
    "sars.loc[sars['Country']=='Hong Kong SAR, China', 'Country'] = 'Hong Kong'\n",
    "sars.loc[sars['Country'] == 'Macao SAR, China', 'Country'] = 'Macau'\n",
    "sars.loc[sars['Country'] == 'Taiwan, China', 'Country'] = 'Taiwan'\n",
    "sars.loc[sars['Country'] == 'Viet Nam', 'Country'] = 'Vietnam'\n",
    "sars.loc[sars['Country'] == 'United States', 'Country'] = 'US'"
   ]
  },
  {
   "cell_type": "code",
   "execution_count": 14,
   "metadata": {},
   "outputs": [],
   "source": [
    "# includes cumulative number of cases \n",
    "sars = sars.sort_values(by=\"Date\").drop_duplicates(subset=[\"Country\"], keep=\"last\").reset_index(drop=True)"
   ]
  },
  {
   "cell_type": "markdown",
   "metadata": {},
   "source": [
    "#### life_exp cleaning"
   ]
  },
  {
   "cell_type": "code",
   "execution_count": 15,
   "metadata": {},
   "outputs": [],
   "source": [
    "life_exp = life_exp.rename(columns = {'Country/Region':'Country', 'Overall':'life_exp_score'})"
   ]
  },
  {
   "cell_type": "code",
   "execution_count": 20,
   "metadata": {},
   "outputs": [],
   "source": [
    "life_exp['Country'] = life_exp['Country'].str.replace(u'\\xa0', '')\n",
    "life_exp_count = ['United States', \"People's Republic of China\", 'Ireland']\n",
    "cor_country_names = ['US', 'China', 'Republic of Ireland']\n",
    "for i in range(len(cor_country_names)):\n",
    "    life_exp.loc[life_exp['Country'] == life_exp_count[i], 'Country'] = cor_country_names[i]\n"
   ]
  },
  {
   "cell_type": "markdown",
   "metadata": {},
   "source": [
    "#### cor (country table)"
   ]
  },
  {
   "cell_type": "code",
   "execution_count": 18,
   "metadata": {},
   "outputs": [],
   "source": [
    "cor.loc[cor['Country/Region'] == 'Mainland China',  'Country/Region'] = 'China'\n",
    "cor.loc[cor['Country/Region'] == 'UK',  'Country/Region'] = 'United Kingdom'"
   ]
  },
  {
   "cell_type": "code",
   "execution_count": 34,
   "metadata": {},
   "outputs": [],
   "source": [
    "cor = cor.rename(columns = {'Country/Region':'Country'})"
   ]
  },
  {
   "cell_type": "code",
   "execution_count": 35,
   "metadata": {},
   "outputs": [],
   "source": [
    "cor_sorted = cor.sort_values(by=\"ObservationDate\").drop_duplicates(subset=[\"Country\",\"Province/State\"], keep=\"last\").reset_index(drop=True)"
   ]
  },
  {
   "cell_type": "markdown",
   "metadata": {},
   "source": [
    "#### ebola preprocessing"
   ]
  },
  {
   "cell_type": "code",
   "execution_count": 26,
   "metadata": {},
   "outputs": [],
   "source": [
    "#ebalo table cleaning\n",
    "ebola = ebola.sort_values(by=\"Date\").drop_duplicates(subset=[\"Country\"], keep=\"last\").reset_index(drop=True)"
   ]
  },
  {
   "cell_type": "code",
   "execution_count": 27,
   "metadata": {},
   "outputs": [],
   "source": [
    "ebola = ebola[['Country', 'No. of confirmed cases', 'No. of confirmed deaths']]\n",
    "ebola = ebola.rename(columns = {'No. of confirmed cases':'eb_confirmed', 'No. of confirmed deaths':'eb_deaths', })"
   ]
  },
  {
   "cell_type": "code",
   "execution_count": 28,
   "metadata": {},
   "outputs": [],
   "source": [
    "ebola.loc[ebola['Country'] == 'United States of America', 'Country'] = 'US'"
   ]
  },
  {
   "cell_type": "markdown",
   "metadata": {},
   "source": [
    "#### Population ratio cleaning"
   ]
  },
  {
   "cell_type": "code",
   "execution_count": 29,
   "metadata": {},
   "outputs": [],
   "source": [
    "popage['Country'] = popage['Country'].str.replace(u'\\xa0', '')\n",
    "popage_countries = ['United States', 'Eswatini (Swaziland)', 'Ireland']\n",
    "in_group_country = ['US', 'Eswatini', 'Republic of Ireland']\n",
    "for i in range(len(in_group_country)):\n",
    "    popage.loc[popage['Country'] == popage_countries[i], 'Country'] = in_group_country[i]"
   ]
  },
  {
   "cell_type": "code",
   "execution_count": 30,
   "metadata": {},
   "outputs": [],
   "source": [
    "for col in popage.columns[1:]:\n",
    "    popage[col] = popage[col].str.replace(r'[\\xa0%]','', regex=True).astype(float)\n",
    "popage.columns = ['Country', '0-14', '15-65', 'Over 65']"
   ]
  },
  {
   "cell_type": "markdown",
   "metadata": {},
   "source": [
    "#### Population Density cleaning"
   ]
  },
  {
   "cell_type": "code",
   "execution_count": 31,
   "metadata": {},
   "outputs": [],
   "source": [
    "popden = popden[['Country (or dependent territory)', 'Density']][4:]\n",
    "popden.columns = ['Country','Density']\n",
    "popden['Country'] = popden['Country'].str.replace(r'^\\s+','', regex=True)"
   ]
  },
  {
   "cell_type": "code",
   "execution_count": 32,
   "metadata": {},
   "outputs": [],
   "source": [
    "popden['Density'] = popden['Density'].str.replace(u',', '').astype(int)\n",
    "popden_countries = ['United States', 'Eswatini (Swaziland)', 'Russia[note 6]', 'Ukraine [note 4]', 'Uruguay[note 5]']\n",
    "in_group_country = ['US', 'Eswatini', 'Russia',  'Ukraine', 'Uruguay']\n",
    "for i in range(len(in_group_country)):\n",
    "    popden.loc[popden['Country'] == popden_countries[i], 'Country'] = in_group_country[i]"
   ]
  },
  {
   "cell_type": "markdown",
   "metadata": {},
   "source": [
    "#### Start merging"
   ]
  },
  {
   "cell_type": "code",
   "execution_count": 36,
   "metadata": {},
   "outputs": [],
   "source": [
    "cor_grouped = cor_sorted.groupby(['Country']).agg({'ObservationDate':'last', \n",
    "                                                  'Confirmed':'sum',\n",
    "                                                  'Deaths':'sum',\n",
    "                                                  'Recovered':'sum'})"
   ]
  },
  {
   "cell_type": "code",
   "execution_count": 37,
   "metadata": {},
   "outputs": [],
   "source": [
    "# merge with ebola data\n",
    "cor_eb = pd.merge(cor_grouped, ebola, on='Country', how='left')"
   ]
  },
  {
   "cell_type": "code",
   "execution_count": 38,
   "metadata": {},
   "outputs": [],
   "source": [
    "# fill Nan confimed ebola with 0 (no ebola)\n",
    "cor_eb.loc[cor_eb['eb_confirmed'].isna(), 'eb_confirmed'] = 0\n",
    "cor_eb.loc[cor_eb['eb_deaths'].isna(), 'eb_deaths'] = 0"
   ]
  },
  {
   "cell_type": "code",
   "execution_count": 39,
   "metadata": {},
   "outputs": [],
   "source": [
    "# merge with mers cov\n",
    "cor_eb_mers = pd.merge(cor_eb, mers, on='Country', how='left')"
   ]
  },
  {
   "cell_type": "code",
   "execution_count": 40,
   "metadata": {},
   "outputs": [],
   "source": [
    "# fill with 0\n",
    "cor_eb_mers.loc[cor_eb_mers['mers_confirmed'].isna(), 'mers_confirmed'] = 0"
   ]
  },
  {
   "cell_type": "code",
   "execution_count": 41,
   "metadata": {},
   "outputs": [],
   "source": [
    "# merge with life Expectancy score\n",
    "cor_eb_mers_life = pd.merge(cor_eb_mers, life_exp[['Country', 'life_exp_score']], on='Country', how='left')\n",
    "# only 6% has null life exp score"
   ]
  },
  {
   "cell_type": "code",
   "execution_count": 42,
   "metadata": {},
   "outputs": [],
   "source": [
    "# merge with age population ratio \n",
    "cor_with_age = pd.merge(cor_eb_mers_life, popage, on = 'Country', how='left')"
   ]
  },
  {
   "cell_type": "code",
   "execution_count": 43,
   "metadata": {},
   "outputs": [],
   "source": [
    "# merge with population density\n",
    "cor_dens = pd.merge(cor_with_age, popden, on='Country', how='left')"
   ]
  },
  {
   "cell_type": "code",
   "execution_count": 44,
   "metadata": {},
   "outputs": [],
   "source": [
    "# merge with sars\n",
    "cor_comp = pd.merge(cor_dens, sars, on='Country', how='left')"
   ]
  },
  {
   "cell_type": "code",
   "execution_count": 45,
   "metadata": {},
   "outputs": [],
   "source": [
    "cor_comp.loc[cor_comp['sars_confirmed'].isna(), 'sars_confirmed'] = 0\n",
    "cor_comp.loc[cor_comp['sars_deaths'].isna(), 'sars_deaths'] = 0\n",
    "cor_comp.loc[cor_comp['sars_recovered'].isna(), 'sars_recovered'] = 0"
   ]
  },
  {
   "cell_type": "code",
   "execution_count": 46,
   "metadata": {},
   "outputs": [
    {
     "data": {
      "text/plain": [
       "184"
      ]
     },
     "execution_count": 46,
     "metadata": {},
     "output_type": "execute_result"
    }
   ],
   "source": [
    "len(cor_comp)"
   ]
  },
  {
   "cell_type": "code",
   "execution_count": 47,
   "metadata": {},
   "outputs": [
    {
     "data": {
      "text/plain": [
       "138"
      ]
     },
     "execution_count": 47,
     "metadata": {},
     "output_type": "execute_result"
    }
   ],
   "source": [
    "len(cor_comp[~cor_comp['life_exp_score'].isna()])"
   ]
  },
  {
   "cell_type": "code",
   "execution_count": 46,
   "metadata": {
    "scrolled": true
   },
   "outputs": [
    {
     "data": {
      "text/html": [
       "<div>\n",
       "<style scoped>\n",
       "    .dataframe tbody tr th:only-of-type {\n",
       "        vertical-align: middle;\n",
       "    }\n",
       "\n",
       "    .dataframe tbody tr th {\n",
       "        vertical-align: top;\n",
       "    }\n",
       "\n",
       "    .dataframe thead th {\n",
       "        text-align: right;\n",
       "    }\n",
       "</style>\n",
       "<table border=\"1\" class=\"dataframe\">\n",
       "  <thead>\n",
       "    <tr style=\"text-align: right;\">\n",
       "      <th></th>\n",
       "      <th>Confirmed</th>\n",
       "      <th>Deaths</th>\n",
       "      <th>Recovered</th>\n",
       "      <th>eb_confirmed</th>\n",
       "      <th>eb_deaths</th>\n",
       "      <th>mers_confirmed</th>\n",
       "      <th>life_exp_score</th>\n",
       "      <th>0-14</th>\n",
       "      <th>15-65</th>\n",
       "      <th>Over 65</th>\n",
       "      <th>Density</th>\n",
       "      <th>sars_confirmed</th>\n",
       "      <th>sars_deaths</th>\n",
       "      <th>sars_recovered</th>\n",
       "    </tr>\n",
       "  </thead>\n",
       "  <tbody>\n",
       "    <tr>\n",
       "      <th>Confirmed</th>\n",
       "      <td>1.000000</td>\n",
       "      <td>0.922759</td>\n",
       "      <td>0.868705</td>\n",
       "      <td>-0.013730</td>\n",
       "      <td>-0.013970</td>\n",
       "      <td>-0.010550</td>\n",
       "      <td>0.171734</td>\n",
       "      <td>-0.179697</td>\n",
       "      <td>0.097910</td>\n",
       "      <td>0.183919</td>\n",
       "      <td>0.600554</td>\n",
       "      <td>0.778039</td>\n",
       "      <td>0.607066</td>\n",
       "      <td>0.789275</td>\n",
       "    </tr>\n",
       "    <tr>\n",
       "      <th>Deaths</th>\n",
       "      <td>0.922759</td>\n",
       "      <td>1.000000</td>\n",
       "      <td>0.714722</td>\n",
       "      <td>-0.010829</td>\n",
       "      <td>-0.011081</td>\n",
       "      <td>-0.010504</td>\n",
       "      <td>0.142554</td>\n",
       "      <td>-0.144581</td>\n",
       "      <td>0.069821</td>\n",
       "      <td>0.156500</td>\n",
       "      <td>0.466226</td>\n",
       "      <td>0.611188</td>\n",
       "      <td>0.476717</td>\n",
       "      <td>0.620190</td>\n",
       "    </tr>\n",
       "    <tr>\n",
       "      <th>Recovered</th>\n",
       "      <td>0.868705</td>\n",
       "      <td>0.714722</td>\n",
       "      <td>1.000000</td>\n",
       "      <td>-0.006601</td>\n",
       "      <td>-0.006597</td>\n",
       "      <td>-0.006345</td>\n",
       "      <td>0.044724</td>\n",
       "      <td>-0.076077</td>\n",
       "      <td>0.099641</td>\n",
       "      <td>0.021348</td>\n",
       "      <td>0.678931</td>\n",
       "      <td>0.936311</td>\n",
       "      <td>0.737367</td>\n",
       "      <td>0.949336</td>\n",
       "    </tr>\n",
       "    <tr>\n",
       "      <th>eb_confirmed</th>\n",
       "      <td>-0.013730</td>\n",
       "      <td>-0.010829</td>\n",
       "      <td>-0.006601</td>\n",
       "      <td>1.000000</td>\n",
       "      <td>0.999997</td>\n",
       "      <td>-0.006053</td>\n",
       "      <td>-0.160602</td>\n",
       "      <td>0.145654</td>\n",
       "      <td>-0.141648</td>\n",
       "      <td>-0.088349</td>\n",
       "      <td>-0.016910</td>\n",
       "      <td>-0.008230</td>\n",
       "      <td>-0.009618</td>\n",
       "      <td>-0.007938</td>\n",
       "    </tr>\n",
       "    <tr>\n",
       "      <th>eb_deaths</th>\n",
       "      <td>-0.013970</td>\n",
       "      <td>-0.011081</td>\n",
       "      <td>-0.006597</td>\n",
       "      <td>0.999997</td>\n",
       "      <td>1.000000</td>\n",
       "      <td>-0.006028</td>\n",
       "      <td>-0.160130</td>\n",
       "      <td>0.145336</td>\n",
       "      <td>-0.141221</td>\n",
       "      <td>-0.088275</td>\n",
       "      <td>-0.017187</td>\n",
       "      <td>-0.008205</td>\n",
       "      <td>-0.009577</td>\n",
       "      <td>-0.007914</td>\n",
       "    </tr>\n",
       "    <tr>\n",
       "      <th>mers_confirmed</th>\n",
       "      <td>-0.010550</td>\n",
       "      <td>-0.010504</td>\n",
       "      <td>-0.006345</td>\n",
       "      <td>-0.006053</td>\n",
       "      <td>-0.006028</td>\n",
       "      <td>1.000000</td>\n",
       "      <td>0.012854</td>\n",
       "      <td>-0.005497</td>\n",
       "      <td>0.104599</td>\n",
       "      <td>-0.092876</td>\n",
       "      <td>-0.007464</td>\n",
       "      <td>-0.008495</td>\n",
       "      <td>-0.010094</td>\n",
       "      <td>-0.008172</td>\n",
       "    </tr>\n",
       "    <tr>\n",
       "      <th>life_exp_score</th>\n",
       "      <td>0.171734</td>\n",
       "      <td>0.142554</td>\n",
       "      <td>0.044724</td>\n",
       "      <td>-0.160602</td>\n",
       "      <td>-0.160130</td>\n",
       "      <td>0.012854</td>\n",
       "      <td>1.000000</td>\n",
       "      <td>-0.851170</td>\n",
       "      <td>0.622314</td>\n",
       "      <td>0.725728</td>\n",
       "      <td>-0.038065</td>\n",
       "      <td>0.079040</td>\n",
       "      <td>0.122670</td>\n",
       "      <td>0.073840</td>\n",
       "    </tr>\n",
       "    <tr>\n",
       "      <th>0-14</th>\n",
       "      <td>-0.179697</td>\n",
       "      <td>-0.144581</td>\n",
       "      <td>-0.076077</td>\n",
       "      <td>0.145654</td>\n",
       "      <td>0.145336</td>\n",
       "      <td>-0.005497</td>\n",
       "      <td>-0.851170</td>\n",
       "      <td>1.000000</td>\n",
       "      <td>-0.779970</td>\n",
       "      <td>-0.794205</td>\n",
       "      <td>-0.009743</td>\n",
       "      <td>-0.117536</td>\n",
       "      <td>-0.154303</td>\n",
       "      <td>-0.111378</td>\n",
       "    </tr>\n",
       "    <tr>\n",
       "      <th>15-65</th>\n",
       "      <td>0.097910</td>\n",
       "      <td>0.069821</td>\n",
       "      <td>0.099641</td>\n",
       "      <td>-0.141648</td>\n",
       "      <td>-0.141221</td>\n",
       "      <td>0.104599</td>\n",
       "      <td>0.622314</td>\n",
       "      <td>-0.779970</td>\n",
       "      <td>1.000000</td>\n",
       "      <td>0.239307</td>\n",
       "      <td>0.050217</td>\n",
       "      <td>0.136054</td>\n",
       "      <td>0.161361</td>\n",
       "      <td>0.131109</td>\n",
       "    </tr>\n",
       "    <tr>\n",
       "      <th>Over 65</th>\n",
       "      <td>0.183919</td>\n",
       "      <td>0.156500</td>\n",
       "      <td>0.021348</td>\n",
       "      <td>-0.088349</td>\n",
       "      <td>-0.088275</td>\n",
       "      <td>-0.092876</td>\n",
       "      <td>0.725728</td>\n",
       "      <td>-0.794205</td>\n",
       "      <td>0.239307</td>\n",
       "      <td>1.000000</td>\n",
       "      <td>-0.033147</td>\n",
       "      <td>0.050325</td>\n",
       "      <td>0.082783</td>\n",
       "      <td>0.045573</td>\n",
       "    </tr>\n",
       "    <tr>\n",
       "      <th>Density</th>\n",
       "      <td>0.600554</td>\n",
       "      <td>0.466226</td>\n",
       "      <td>0.678931</td>\n",
       "      <td>-0.016910</td>\n",
       "      <td>-0.017187</td>\n",
       "      <td>-0.007464</td>\n",
       "      <td>-0.038065</td>\n",
       "      <td>-0.009743</td>\n",
       "      <td>0.050217</td>\n",
       "      <td>-0.033147</td>\n",
       "      <td>1.000000</td>\n",
       "      <td>0.636290</td>\n",
       "      <td>0.491911</td>\n",
       "      <td>0.645877</td>\n",
       "    </tr>\n",
       "    <tr>\n",
       "      <th>sars_confirmed</th>\n",
       "      <td>0.778039</td>\n",
       "      <td>0.611188</td>\n",
       "      <td>0.936311</td>\n",
       "      <td>-0.008230</td>\n",
       "      <td>-0.008205</td>\n",
       "      <td>-0.008495</td>\n",
       "      <td>0.079040</td>\n",
       "      <td>-0.117536</td>\n",
       "      <td>0.136054</td>\n",
       "      <td>0.050325</td>\n",
       "      <td>0.636290</td>\n",
       "      <td>1.000000</td>\n",
       "      <td>0.923095</td>\n",
       "      <td>0.999116</td>\n",
       "    </tr>\n",
       "    <tr>\n",
       "      <th>sars_deaths</th>\n",
       "      <td>0.607066</td>\n",
       "      <td>0.476717</td>\n",
       "      <td>0.737367</td>\n",
       "      <td>-0.009618</td>\n",
       "      <td>-0.009577</td>\n",
       "      <td>-0.010094</td>\n",
       "      <td>0.122670</td>\n",
       "      <td>-0.154303</td>\n",
       "      <td>0.161361</td>\n",
       "      <td>0.082783</td>\n",
       "      <td>0.491911</td>\n",
       "      <td>0.923095</td>\n",
       "      <td>1.000000</td>\n",
       "      <td>0.907040</td>\n",
       "    </tr>\n",
       "    <tr>\n",
       "      <th>sars_recovered</th>\n",
       "      <td>0.789275</td>\n",
       "      <td>0.620190</td>\n",
       "      <td>0.949336</td>\n",
       "      <td>-0.007938</td>\n",
       "      <td>-0.007914</td>\n",
       "      <td>-0.008172</td>\n",
       "      <td>0.073840</td>\n",
       "      <td>-0.111378</td>\n",
       "      <td>0.131109</td>\n",
       "      <td>0.045573</td>\n",
       "      <td>0.645877</td>\n",
       "      <td>0.999116</td>\n",
       "      <td>0.907040</td>\n",
       "      <td>1.000000</td>\n",
       "    </tr>\n",
       "  </tbody>\n",
       "</table>\n",
       "</div>"
      ],
      "text/plain": [
       "                Confirmed    Deaths  Recovered  eb_confirmed  eb_deaths  \\\n",
       "Confirmed        1.000000  0.922759   0.868705     -0.013730  -0.013970   \n",
       "Deaths           0.922759  1.000000   0.714722     -0.010829  -0.011081   \n",
       "Recovered        0.868705  0.714722   1.000000     -0.006601  -0.006597   \n",
       "eb_confirmed    -0.013730 -0.010829  -0.006601      1.000000   0.999997   \n",
       "eb_deaths       -0.013970 -0.011081  -0.006597      0.999997   1.000000   \n",
       "mers_confirmed  -0.010550 -0.010504  -0.006345     -0.006053  -0.006028   \n",
       "life_exp_score   0.171734  0.142554   0.044724     -0.160602  -0.160130   \n",
       "0-14            -0.179697 -0.144581  -0.076077      0.145654   0.145336   \n",
       "15-65            0.097910  0.069821   0.099641     -0.141648  -0.141221   \n",
       "Over 65          0.183919  0.156500   0.021348     -0.088349  -0.088275   \n",
       "Density          0.600554  0.466226   0.678931     -0.016910  -0.017187   \n",
       "sars_confirmed   0.778039  0.611188   0.936311     -0.008230  -0.008205   \n",
       "sars_deaths      0.607066  0.476717   0.737367     -0.009618  -0.009577   \n",
       "sars_recovered   0.789275  0.620190   0.949336     -0.007938  -0.007914   \n",
       "\n",
       "                mers_confirmed  life_exp_score      0-14     15-65   Over 65  \\\n",
       "Confirmed            -0.010550        0.171734 -0.179697  0.097910  0.183919   \n",
       "Deaths               -0.010504        0.142554 -0.144581  0.069821  0.156500   \n",
       "Recovered            -0.006345        0.044724 -0.076077  0.099641  0.021348   \n",
       "eb_confirmed         -0.006053       -0.160602  0.145654 -0.141648 -0.088349   \n",
       "eb_deaths            -0.006028       -0.160130  0.145336 -0.141221 -0.088275   \n",
       "mers_confirmed        1.000000        0.012854 -0.005497  0.104599 -0.092876   \n",
       "life_exp_score        0.012854        1.000000 -0.851170  0.622314  0.725728   \n",
       "0-14                 -0.005497       -0.851170  1.000000 -0.779970 -0.794205   \n",
       "15-65                 0.104599        0.622314 -0.779970  1.000000  0.239307   \n",
       "Over 65              -0.092876        0.725728 -0.794205  0.239307  1.000000   \n",
       "Density              -0.007464       -0.038065 -0.009743  0.050217 -0.033147   \n",
       "sars_confirmed       -0.008495        0.079040 -0.117536  0.136054  0.050325   \n",
       "sars_deaths          -0.010094        0.122670 -0.154303  0.161361  0.082783   \n",
       "sars_recovered       -0.008172        0.073840 -0.111378  0.131109  0.045573   \n",
       "\n",
       "                 Density  sars_confirmed  sars_deaths  sars_recovered  \n",
       "Confirmed       0.600554        0.778039     0.607066        0.789275  \n",
       "Deaths          0.466226        0.611188     0.476717        0.620190  \n",
       "Recovered       0.678931        0.936311     0.737367        0.949336  \n",
       "eb_confirmed   -0.016910       -0.008230    -0.009618       -0.007938  \n",
       "eb_deaths      -0.017187       -0.008205    -0.009577       -0.007914  \n",
       "mers_confirmed -0.007464       -0.008495    -0.010094       -0.008172  \n",
       "life_exp_score -0.038065        0.079040     0.122670        0.073840  \n",
       "0-14           -0.009743       -0.117536    -0.154303       -0.111378  \n",
       "15-65           0.050217        0.136054     0.161361        0.131109  \n",
       "Over 65        -0.033147        0.050325     0.082783        0.045573  \n",
       "Density         1.000000        0.636290     0.491911        0.645877  \n",
       "sars_confirmed  0.636290        1.000000     0.923095        0.999116  \n",
       "sars_deaths     0.491911        0.923095     1.000000        0.907040  \n",
       "sars_recovered  0.645877        0.999116     0.907040        1.000000  "
      ]
     },
     "execution_count": 46,
     "metadata": {},
     "output_type": "execute_result"
    }
   ],
   "source": [
    "cor_comp.corr()"
   ]
  },
  {
   "cell_type": "code",
   "execution_count": 233,
   "metadata": {},
   "outputs": [
    {
     "data": {
      "text/html": [
       "<div>\n",
       "<style scoped>\n",
       "    .dataframe tbody tr th:only-of-type {\n",
       "        vertical-align: middle;\n",
       "    }\n",
       "\n",
       "    .dataframe tbody tr th {\n",
       "        vertical-align: top;\n",
       "    }\n",
       "\n",
       "    .dataframe thead th {\n",
       "        text-align: right;\n",
       "    }\n",
       "</style>\n",
       "<table border=\"1\" class=\"dataframe\">\n",
       "  <thead>\n",
       "    <tr style=\"text-align: right;\">\n",
       "      <th></th>\n",
       "      <th>SNo</th>\n",
       "      <th>Confirmed</th>\n",
       "      <th>Deaths</th>\n",
       "      <th>Recovered</th>\n",
       "      <th>eb_confirmed</th>\n",
       "      <th>eb_deaths</th>\n",
       "      <th>mers_confirmed</th>\n",
       "      <th>life_exp_score</th>\n",
       "      <th>0-14</th>\n",
       "      <th>15-65</th>\n",
       "      <th>Over 65</th>\n",
       "      <th>Density</th>\n",
       "      <th>sars_confirmed</th>\n",
       "      <th>sars_deaths</th>\n",
       "      <th>sars_recovered</th>\n",
       "    </tr>\n",
       "  </thead>\n",
       "  <tbody>\n",
       "    <tr>\n",
       "      <th>SNo</th>\n",
       "      <td>1.000000</td>\n",
       "      <td>0.078542</td>\n",
       "      <td>0.122982</td>\n",
       "      <td>0.047409</td>\n",
       "      <td>0.308492</td>\n",
       "      <td>0.023168</td>\n",
       "      <td>0.265912</td>\n",
       "      <td>0.117357</td>\n",
       "      <td>0.103154</td>\n",
       "      <td>-0.320630</td>\n",
       "      <td>0.210649</td>\n",
       "      <td>-0.170613</td>\n",
       "      <td>-0.219586</td>\n",
       "      <td>-0.311162</td>\n",
       "      <td>-0.210857</td>\n",
       "    </tr>\n",
       "    <tr>\n",
       "      <th>Confirmed</th>\n",
       "      <td>0.078542</td>\n",
       "      <td>1.000000</td>\n",
       "      <td>0.622057</td>\n",
       "      <td>0.815396</td>\n",
       "      <td>-0.505691</td>\n",
       "      <td>-0.033114</td>\n",
       "      <td>-0.422274</td>\n",
       "      <td>-0.230779</td>\n",
       "      <td>-0.202566</td>\n",
       "      <td>0.552314</td>\n",
       "      <td>-0.345782</td>\n",
       "      <td>0.336675</td>\n",
       "      <td>0.369725</td>\n",
       "      <td>0.523648</td>\n",
       "      <td>0.355793</td>\n",
       "    </tr>\n",
       "    <tr>\n",
       "      <th>Deaths</th>\n",
       "      <td>0.122982</td>\n",
       "      <td>0.622057</td>\n",
       "      <td>1.000000</td>\n",
       "      <td>0.588116</td>\n",
       "      <td>-0.211498</td>\n",
       "      <td>-0.013217</td>\n",
       "      <td>-0.187580</td>\n",
       "      <td>-0.038857</td>\n",
       "      <td>-0.124497</td>\n",
       "      <td>0.156160</td>\n",
       "      <td>-0.051643</td>\n",
       "      <td>0.145931</td>\n",
       "      <td>0.124129</td>\n",
       "      <td>0.191812</td>\n",
       "      <td>0.128380</td>\n",
       "    </tr>\n",
       "    <tr>\n",
       "      <th>Recovered</th>\n",
       "      <td>0.047409</td>\n",
       "      <td>0.815396</td>\n",
       "      <td>0.588116</td>\n",
       "      <td>1.000000</td>\n",
       "      <td>-0.517166</td>\n",
       "      <td>-0.031583</td>\n",
       "      <td>-0.459661</td>\n",
       "      <td>-0.279283</td>\n",
       "      <td>-0.187390</td>\n",
       "      <td>0.607479</td>\n",
       "      <td>-0.404725</td>\n",
       "      <td>0.412411</td>\n",
       "      <td>0.441150</td>\n",
       "      <td>0.584479</td>\n",
       "      <td>0.409239</td>\n",
       "    </tr>\n",
       "    <tr>\n",
       "      <th>eb_confirmed</th>\n",
       "      <td>0.308492</td>\n",
       "      <td>-0.505691</td>\n",
       "      <td>-0.211498</td>\n",
       "      <td>-0.517166</td>\n",
       "      <td>1.000000</td>\n",
       "      <td>0.103130</td>\n",
       "      <td>0.643849</td>\n",
       "      <td>0.147981</td>\n",
       "      <td>0.187967</td>\n",
       "      <td>-0.581007</td>\n",
       "      <td>0.380772</td>\n",
       "      <td>-0.008704</td>\n",
       "      <td>-0.214704</td>\n",
       "      <td>-0.614424</td>\n",
       "      <td>-0.324759</td>\n",
       "    </tr>\n",
       "    <tr>\n",
       "      <th>eb_deaths</th>\n",
       "      <td>0.023168</td>\n",
       "      <td>-0.033114</td>\n",
       "      <td>-0.013217</td>\n",
       "      <td>-0.031583</td>\n",
       "      <td>0.103130</td>\n",
       "      <td>1.000000</td>\n",
       "      <td>0.032257</td>\n",
       "      <td>-0.017928</td>\n",
       "      <td>0.048872</td>\n",
       "      <td>-0.049326</td>\n",
       "      <td>0.009673</td>\n",
       "      <td>-0.009041</td>\n",
       "      <td>-0.019265</td>\n",
       "      <td>-0.037454</td>\n",
       "      <td>-0.022579</td>\n",
       "    </tr>\n",
       "    <tr>\n",
       "      <th>mers_confirmed</th>\n",
       "      <td>0.265912</td>\n",
       "      <td>-0.422274</td>\n",
       "      <td>-0.187580</td>\n",
       "      <td>-0.459661</td>\n",
       "      <td>0.643849</td>\n",
       "      <td>0.032257</td>\n",
       "      <td>1.000000</td>\n",
       "      <td>0.192024</td>\n",
       "      <td>0.197301</td>\n",
       "      <td>-0.596763</td>\n",
       "      <td>0.389002</td>\n",
       "      <td>-0.264470</td>\n",
       "      <td>-0.453882</td>\n",
       "      <td>-0.673821</td>\n",
       "      <td>-0.437311</td>\n",
       "    </tr>\n",
       "    <tr>\n",
       "      <th>life_exp_score</th>\n",
       "      <td>0.117357</td>\n",
       "      <td>-0.230779</td>\n",
       "      <td>-0.038857</td>\n",
       "      <td>-0.279283</td>\n",
       "      <td>0.147981</td>\n",
       "      <td>-0.017928</td>\n",
       "      <td>0.192024</td>\n",
       "      <td>1.000000</td>\n",
       "      <td>-0.651303</td>\n",
       "      <td>-0.443212</td>\n",
       "      <td>0.837421</td>\n",
       "      <td>-0.615348</td>\n",
       "      <td>-0.294633</td>\n",
       "      <td>-0.314561</td>\n",
       "      <td>-0.249864</td>\n",
       "    </tr>\n",
       "    <tr>\n",
       "      <th>0-14</th>\n",
       "      <td>0.103154</td>\n",
       "      <td>-0.202566</td>\n",
       "      <td>-0.124497</td>\n",
       "      <td>-0.187390</td>\n",
       "      <td>0.187967</td>\n",
       "      <td>0.048872</td>\n",
       "      <td>0.197301</td>\n",
       "      <td>-0.651303</td>\n",
       "      <td>1.000000</td>\n",
       "      <td>-0.203415</td>\n",
       "      <td>-0.509869</td>\n",
       "      <td>0.080782</td>\n",
       "      <td>-0.219129</td>\n",
       "      <td>-0.258279</td>\n",
       "      <td>-0.181963</td>\n",
       "    </tr>\n",
       "    <tr>\n",
       "      <th>15-65</th>\n",
       "      <td>-0.320630</td>\n",
       "      <td>0.552314</td>\n",
       "      <td>0.156160</td>\n",
       "      <td>0.607479</td>\n",
       "      <td>-0.581007</td>\n",
       "      <td>-0.049326</td>\n",
       "      <td>-0.596763</td>\n",
       "      <td>-0.443212</td>\n",
       "      <td>-0.203415</td>\n",
       "      <td>1.000000</td>\n",
       "      <td>-0.738535</td>\n",
       "      <td>0.505577</td>\n",
       "      <td>0.657836</td>\n",
       "      <td>0.801324</td>\n",
       "      <td>0.572679</td>\n",
       "    </tr>\n",
       "    <tr>\n",
       "      <th>Over 65</th>\n",
       "      <td>0.210649</td>\n",
       "      <td>-0.345782</td>\n",
       "      <td>-0.051643</td>\n",
       "      <td>-0.404725</td>\n",
       "      <td>0.380772</td>\n",
       "      <td>0.009673</td>\n",
       "      <td>0.389002</td>\n",
       "      <td>0.837421</td>\n",
       "      <td>-0.509869</td>\n",
       "      <td>-0.738535</td>\n",
       "      <td>1.000000</td>\n",
       "      <td>-0.500134</td>\n",
       "      <td>-0.427605</td>\n",
       "      <td>-0.526660</td>\n",
       "      <td>-0.378202</td>\n",
       "    </tr>\n",
       "    <tr>\n",
       "      <th>Density</th>\n",
       "      <td>-0.170613</td>\n",
       "      <td>0.336675</td>\n",
       "      <td>0.145931</td>\n",
       "      <td>0.412411</td>\n",
       "      <td>-0.008704</td>\n",
       "      <td>-0.009041</td>\n",
       "      <td>-0.264470</td>\n",
       "      <td>-0.615348</td>\n",
       "      <td>0.080782</td>\n",
       "      <td>0.505577</td>\n",
       "      <td>-0.500134</td>\n",
       "      <td>1.000000</td>\n",
       "      <td>0.642945</td>\n",
       "      <td>0.521215</td>\n",
       "      <td>0.475268</td>\n",
       "    </tr>\n",
       "    <tr>\n",
       "      <th>sars_confirmed</th>\n",
       "      <td>-0.219586</td>\n",
       "      <td>0.369725</td>\n",
       "      <td>0.124129</td>\n",
       "      <td>0.441150</td>\n",
       "      <td>-0.214704</td>\n",
       "      <td>-0.019265</td>\n",
       "      <td>-0.453882</td>\n",
       "      <td>-0.294633</td>\n",
       "      <td>-0.219129</td>\n",
       "      <td>0.657836</td>\n",
       "      <td>-0.427605</td>\n",
       "      <td>0.642945</td>\n",
       "      <td>1.000000</td>\n",
       "      <td>0.882070</td>\n",
       "      <td>0.802273</td>\n",
       "    </tr>\n",
       "    <tr>\n",
       "      <th>sars_deaths</th>\n",
       "      <td>-0.311162</td>\n",
       "      <td>0.523648</td>\n",
       "      <td>0.191812</td>\n",
       "      <td>0.584479</td>\n",
       "      <td>-0.614424</td>\n",
       "      <td>-0.037454</td>\n",
       "      <td>-0.673821</td>\n",
       "      <td>-0.314561</td>\n",
       "      <td>-0.258279</td>\n",
       "      <td>0.801324</td>\n",
       "      <td>-0.526660</td>\n",
       "      <td>0.521215</td>\n",
       "      <td>0.882070</td>\n",
       "      <td>1.000000</td>\n",
       "      <td>0.819076</td>\n",
       "    </tr>\n",
       "    <tr>\n",
       "      <th>sars_recovered</th>\n",
       "      <td>-0.210857</td>\n",
       "      <td>0.355793</td>\n",
       "      <td>0.128380</td>\n",
       "      <td>0.409239</td>\n",
       "      <td>-0.324759</td>\n",
       "      <td>-0.022579</td>\n",
       "      <td>-0.437311</td>\n",
       "      <td>-0.249864</td>\n",
       "      <td>-0.181963</td>\n",
       "      <td>0.572679</td>\n",
       "      <td>-0.378202</td>\n",
       "      <td>0.475268</td>\n",
       "      <td>0.802273</td>\n",
       "      <td>0.819076</td>\n",
       "      <td>1.000000</td>\n",
       "    </tr>\n",
       "  </tbody>\n",
       "</table>\n",
       "</div>"
      ],
      "text/plain": [
       "                     SNo  Confirmed    Deaths  Recovered  eb_confirmed  \\\n",
       "SNo             1.000000   0.078542  0.122982   0.047409      0.308492   \n",
       "Confirmed       0.078542   1.000000  0.622057   0.815396     -0.505691   \n",
       "Deaths          0.122982   0.622057  1.000000   0.588116     -0.211498   \n",
       "Recovered       0.047409   0.815396  0.588116   1.000000     -0.517166   \n",
       "eb_confirmed    0.308492  -0.505691 -0.211498  -0.517166      1.000000   \n",
       "eb_deaths       0.023168  -0.033114 -0.013217  -0.031583      0.103130   \n",
       "mers_confirmed  0.265912  -0.422274 -0.187580  -0.459661      0.643849   \n",
       "life_exp_score  0.117357  -0.230779 -0.038857  -0.279283      0.147981   \n",
       "0-14            0.103154  -0.202566 -0.124497  -0.187390      0.187967   \n",
       "15-65          -0.320630   0.552314  0.156160   0.607479     -0.581007   \n",
       "Over 65         0.210649  -0.345782 -0.051643  -0.404725      0.380772   \n",
       "Density        -0.170613   0.336675  0.145931   0.412411     -0.008704   \n",
       "sars_confirmed -0.219586   0.369725  0.124129   0.441150     -0.214704   \n",
       "sars_deaths    -0.311162   0.523648  0.191812   0.584479     -0.614424   \n",
       "sars_recovered -0.210857   0.355793  0.128380   0.409239     -0.324759   \n",
       "\n",
       "                eb_deaths  mers_confirmed  life_exp_score      0-14     15-65  \\\n",
       "SNo              0.023168        0.265912        0.117357  0.103154 -0.320630   \n",
       "Confirmed       -0.033114       -0.422274       -0.230779 -0.202566  0.552314   \n",
       "Deaths          -0.013217       -0.187580       -0.038857 -0.124497  0.156160   \n",
       "Recovered       -0.031583       -0.459661       -0.279283 -0.187390  0.607479   \n",
       "eb_confirmed     0.103130        0.643849        0.147981  0.187967 -0.581007   \n",
       "eb_deaths        1.000000        0.032257       -0.017928  0.048872 -0.049326   \n",
       "mers_confirmed   0.032257        1.000000        0.192024  0.197301 -0.596763   \n",
       "life_exp_score  -0.017928        0.192024        1.000000 -0.651303 -0.443212   \n",
       "0-14             0.048872        0.197301       -0.651303  1.000000 -0.203415   \n",
       "15-65           -0.049326       -0.596763       -0.443212 -0.203415  1.000000   \n",
       "Over 65          0.009673        0.389002        0.837421 -0.509869 -0.738535   \n",
       "Density         -0.009041       -0.264470       -0.615348  0.080782  0.505577   \n",
       "sars_confirmed  -0.019265       -0.453882       -0.294633 -0.219129  0.657836   \n",
       "sars_deaths     -0.037454       -0.673821       -0.314561 -0.258279  0.801324   \n",
       "sars_recovered  -0.022579       -0.437311       -0.249864 -0.181963  0.572679   \n",
       "\n",
       "                 Over 65   Density  sars_confirmed  sars_deaths  \\\n",
       "SNo             0.210649 -0.170613       -0.219586    -0.311162   \n",
       "Confirmed      -0.345782  0.336675        0.369725     0.523648   \n",
       "Deaths         -0.051643  0.145931        0.124129     0.191812   \n",
       "Recovered      -0.404725  0.412411        0.441150     0.584479   \n",
       "eb_confirmed    0.380772 -0.008704       -0.214704    -0.614424   \n",
       "eb_deaths       0.009673 -0.009041       -0.019265    -0.037454   \n",
       "mers_confirmed  0.389002 -0.264470       -0.453882    -0.673821   \n",
       "life_exp_score  0.837421 -0.615348       -0.294633    -0.314561   \n",
       "0-14           -0.509869  0.080782       -0.219129    -0.258279   \n",
       "15-65          -0.738535  0.505577        0.657836     0.801324   \n",
       "Over 65         1.000000 -0.500134       -0.427605    -0.526660   \n",
       "Density        -0.500134  1.000000        0.642945     0.521215   \n",
       "sars_confirmed -0.427605  0.642945        1.000000     0.882070   \n",
       "sars_deaths    -0.526660  0.521215        0.882070     1.000000   \n",
       "sars_recovered -0.378202  0.475268        0.802273     0.819076   \n",
       "\n",
       "                sars_recovered  \n",
       "SNo                  -0.210857  \n",
       "Confirmed             0.355793  \n",
       "Deaths                0.128380  \n",
       "Recovered             0.409239  \n",
       "eb_confirmed         -0.324759  \n",
       "eb_deaths            -0.022579  \n",
       "mers_confirmed       -0.437311  \n",
       "life_exp_score       -0.249864  \n",
       "0-14                 -0.181963  \n",
       "15-65                 0.572679  \n",
       "Over 65              -0.378202  \n",
       "Density               0.475268  \n",
       "sars_confirmed        0.802273  \n",
       "sars_deaths           0.819076  \n",
       "sars_recovered        1.000000  "
      ]
     },
     "execution_count": 233,
     "metadata": {},
     "output_type": "execute_result"
    }
   ],
   "source": [
    "cor_comp_2.corr()"
   ]
  },
  {
   "cell_type": "code",
   "execution_count": 48,
   "metadata": {},
   "outputs": [],
   "source": [
    "cor_comp_model = cor_comp[~cor_comp['life_exp_score'].isna()]"
   ]
  },
  {
   "cell_type": "code",
   "execution_count": 49,
   "metadata": {},
   "outputs": [
    {
     "data": {
      "text/plain": [
       "(138, 184)"
      ]
     },
     "execution_count": 49,
     "metadata": {},
     "output_type": "execute_result"
    }
   ],
   "source": [
    "len(cor_comp_model), len(cor_comp)"
   ]
  },
  {
   "cell_type": "code",
   "execution_count": 50,
   "metadata": {},
   "outputs": [
    {
     "name": "stderr",
     "output_type": "stream",
     "text": [
      "c:\\users\\owner\\appdata\\local\\programs\\python\\python37\\lib\\site-packages\\ipykernel_launcher.py:1: SettingWithCopyWarning: \n",
      "A value is trying to be set on a copy of a slice from a DataFrame.\n",
      "Try using .loc[row_indexer,col_indexer] = value instead\n",
      "\n",
      "See the caveats in the documentation: http://pandas.pydata.org/pandas-docs/stable/user_guide/indexing.html#returning-a-view-versus-a-copy\n",
      "  \"\"\"Entry point for launching an IPython kernel.\n",
      "c:\\users\\owner\\appdata\\local\\programs\\python\\python37\\lib\\site-packages\\ipykernel_launcher.py:3: SettingWithCopyWarning: \n",
      "A value is trying to be set on a copy of a slice from a DataFrame.\n",
      "Try using .loc[row_indexer,col_indexer] = value instead\n",
      "\n",
      "See the caveats in the documentation: http://pandas.pydata.org/pandas-docs/stable/user_guide/indexing.html#returning-a-view-versus-a-copy\n",
      "  This is separate from the ipykernel package so we can avoid doing imports until\n"
     ]
    }
   ],
   "source": [
    "cor_comp_model['ObservationDate'] = pd.to_datetime(cor_comp_model['ObservationDate'])\n",
    "le = preprocessing.LabelEncoder()\n",
    "cor_comp_model['Day_number'] = le.fit_transform(cor_comp_model['ObservationDate'])"
   ]
  },
  {
   "cell_type": "code",
   "execution_count": 601,
   "metadata": {},
   "outputs": [
    {
     "data": {
      "text/html": [
       "<div>\n",
       "<style scoped>\n",
       "    .dataframe tbody tr th:only-of-type {\n",
       "        vertical-align: middle;\n",
       "    }\n",
       "\n",
       "    .dataframe tbody tr th {\n",
       "        vertical-align: top;\n",
       "    }\n",
       "\n",
       "    .dataframe thead th {\n",
       "        text-align: right;\n",
       "    }\n",
       "</style>\n",
       "<table border=\"1\" class=\"dataframe\">\n",
       "  <thead>\n",
       "    <tr style=\"text-align: right;\">\n",
       "      <th></th>\n",
       "      <th>SNo</th>\n",
       "      <th>Confirmed</th>\n",
       "      <th>Deaths</th>\n",
       "      <th>Recovered</th>\n",
       "      <th>eb_confirmed</th>\n",
       "      <th>eb_deaths</th>\n",
       "      <th>mers_confirmed</th>\n",
       "      <th>life_exp_score</th>\n",
       "      <th>0-14</th>\n",
       "      <th>15-65</th>\n",
       "      <th>Over 65</th>\n",
       "      <th>Density</th>\n",
       "      <th>sars_confirmed</th>\n",
       "      <th>sars_deaths</th>\n",
       "      <th>sars_recovered</th>\n",
       "      <th>Day_number</th>\n",
       "    </tr>\n",
       "  </thead>\n",
       "  <tbody>\n",
       "    <tr>\n",
       "      <th>SNo</th>\n",
       "      <td>1.000000</td>\n",
       "      <td>0.097978</td>\n",
       "      <td>0.092903</td>\n",
       "      <td>-0.021887</td>\n",
       "      <td>0.154750</td>\n",
       "      <td>0.052291</td>\n",
       "      <td>0.075877</td>\n",
       "      <td>-0.107676</td>\n",
       "      <td>0.213764</td>\n",
       "      <td>-0.286735</td>\n",
       "      <td>0.001741</td>\n",
       "      <td>-0.311580</td>\n",
       "      <td>-0.340559</td>\n",
       "      <td>-0.362809</td>\n",
       "      <td>-0.340719</td>\n",
       "      <td>0.960475</td>\n",
       "    </tr>\n",
       "    <tr>\n",
       "      <th>Confirmed</th>\n",
       "      <td>0.097978</td>\n",
       "      <td>1.000000</td>\n",
       "      <td>0.624327</td>\n",
       "      <td>0.780421</td>\n",
       "      <td>-0.319831</td>\n",
       "      <td>-0.058056</td>\n",
       "      <td>-0.121547</td>\n",
       "      <td>0.074350</td>\n",
       "      <td>-0.268793</td>\n",
       "      <td>0.430448</td>\n",
       "      <td>-0.064374</td>\n",
       "      <td>0.327060</td>\n",
       "      <td>0.408418</td>\n",
       "      <td>0.526138</td>\n",
       "      <td>0.412111</td>\n",
       "      <td>0.094729</td>\n",
       "    </tr>\n",
       "    <tr>\n",
       "      <th>Deaths</th>\n",
       "      <td>0.092903</td>\n",
       "      <td>0.624327</td>\n",
       "      <td>1.000000</td>\n",
       "      <td>0.607508</td>\n",
       "      <td>-0.134172</td>\n",
       "      <td>-0.018404</td>\n",
       "      <td>-0.051787</td>\n",
       "      <td>0.050519</td>\n",
       "      <td>-0.114423</td>\n",
       "      <td>0.141002</td>\n",
       "      <td>0.009976</td>\n",
       "      <td>0.180956</td>\n",
       "      <td>0.163459</td>\n",
       "      <td>0.211920</td>\n",
       "      <td>0.166018</td>\n",
       "      <td>0.109156</td>\n",
       "    </tr>\n",
       "    <tr>\n",
       "      <th>Recovered</th>\n",
       "      <td>-0.021887</td>\n",
       "      <td>0.780421</td>\n",
       "      <td>0.607508</td>\n",
       "      <td>1.000000</td>\n",
       "      <td>-0.312230</td>\n",
       "      <td>-0.033615</td>\n",
       "      <td>-0.155692</td>\n",
       "      <td>-0.017537</td>\n",
       "      <td>-0.222744</td>\n",
       "      <td>0.477968</td>\n",
       "      <td>-0.161073</td>\n",
       "      <td>0.448573</td>\n",
       "      <td>0.546438</td>\n",
       "      <td>0.650076</td>\n",
       "      <td>0.550158</td>\n",
       "      <td>0.039169</td>\n",
       "    </tr>\n",
       "    <tr>\n",
       "      <th>eb_confirmed</th>\n",
       "      <td>0.154750</td>\n",
       "      <td>-0.319831</td>\n",
       "      <td>-0.134172</td>\n",
       "      <td>-0.312230</td>\n",
       "      <td>1.000000</td>\n",
       "      <td>0.454031</td>\n",
       "      <td>0.243736</td>\n",
       "      <td>0.005669</td>\n",
       "      <td>0.036515</td>\n",
       "      <td>-0.286301</td>\n",
       "      <td>0.211202</td>\n",
       "      <td>0.212535</td>\n",
       "      <td>0.031089</td>\n",
       "      <td>-0.351808</td>\n",
       "      <td>0.025850</td>\n",
       "      <td>0.164734</td>\n",
       "    </tr>\n",
       "    <tr>\n",
       "      <th>eb_deaths</th>\n",
       "      <td>0.052291</td>\n",
       "      <td>-0.058056</td>\n",
       "      <td>-0.018404</td>\n",
       "      <td>-0.033615</td>\n",
       "      <td>0.454031</td>\n",
       "      <td>1.000000</td>\n",
       "      <td>-0.023862</td>\n",
       "      <td>-0.235837</td>\n",
       "      <td>0.211838</td>\n",
       "      <td>-0.163883</td>\n",
       "      <td>-0.104502</td>\n",
       "      <td>-0.024777</td>\n",
       "      <td>-0.059583</td>\n",
       "      <td>-0.037001</td>\n",
       "      <td>-0.059065</td>\n",
       "      <td>0.044460</td>\n",
       "    </tr>\n",
       "    <tr>\n",
       "      <th>mers_confirmed</th>\n",
       "      <td>0.075877</td>\n",
       "      <td>-0.121547</td>\n",
       "      <td>-0.051787</td>\n",
       "      <td>-0.155692</td>\n",
       "      <td>0.243736</td>\n",
       "      <td>-0.023862</td>\n",
       "      <td>1.000000</td>\n",
       "      <td>0.068869</td>\n",
       "      <td>-0.019552</td>\n",
       "      <td>0.134370</td>\n",
       "      <td>-0.096184</td>\n",
       "      <td>-0.060957</td>\n",
       "      <td>-0.186375</td>\n",
       "      <td>-0.308508</td>\n",
       "      <td>-0.189960</td>\n",
       "      <td>0.088948</td>\n",
       "    </tr>\n",
       "    <tr>\n",
       "      <th>life_exp_score</th>\n",
       "      <td>-0.107676</td>\n",
       "      <td>0.074350</td>\n",
       "      <td>0.050519</td>\n",
       "      <td>-0.017537</td>\n",
       "      <td>0.005669</td>\n",
       "      <td>-0.235837</td>\n",
       "      <td>0.068869</td>\n",
       "      <td>1.000000</td>\n",
       "      <td>-0.775788</td>\n",
       "      <td>0.193412</td>\n",
       "      <td>0.745087</td>\n",
       "      <td>-0.082451</td>\n",
       "      <td>0.067726</td>\n",
       "      <td>-0.042564</td>\n",
       "      <td>0.063605</td>\n",
       "      <td>-0.084024</td>\n",
       "    </tr>\n",
       "    <tr>\n",
       "      <th>0-14</th>\n",
       "      <td>0.213764</td>\n",
       "      <td>-0.268793</td>\n",
       "      <td>-0.114423</td>\n",
       "      <td>-0.222744</td>\n",
       "      <td>0.036515</td>\n",
       "      <td>0.211838</td>\n",
       "      <td>-0.019552</td>\n",
       "      <td>-0.775788</td>\n",
       "      <td>1.000000</td>\n",
       "      <td>-0.565178</td>\n",
       "      <td>-0.680327</td>\n",
       "      <td>-0.196949</td>\n",
       "      <td>-0.374484</td>\n",
       "      <td>-0.290197</td>\n",
       "      <td>-0.372657</td>\n",
       "      <td>0.197141</td>\n",
       "    </tr>\n",
       "    <tr>\n",
       "      <th>15-65</th>\n",
       "      <td>-0.286735</td>\n",
       "      <td>0.430448</td>\n",
       "      <td>0.141002</td>\n",
       "      <td>0.477968</td>\n",
       "      <td>-0.286301</td>\n",
       "      <td>-0.163883</td>\n",
       "      <td>0.134370</td>\n",
       "      <td>0.193412</td>\n",
       "      <td>-0.565178</td>\n",
       "      <td>1.000000</td>\n",
       "      <td>-0.220078</td>\n",
       "      <td>0.331663</td>\n",
       "      <td>0.553792</td>\n",
       "      <td>0.624078</td>\n",
       "      <td>0.555360</td>\n",
       "      <td>-0.282099</td>\n",
       "    </tr>\n",
       "    <tr>\n",
       "      <th>Over 65</th>\n",
       "      <td>0.001741</td>\n",
       "      <td>-0.064374</td>\n",
       "      <td>0.009976</td>\n",
       "      <td>-0.161073</td>\n",
       "      <td>0.211202</td>\n",
       "      <td>-0.104502</td>\n",
       "      <td>-0.096184</td>\n",
       "      <td>0.745087</td>\n",
       "      <td>-0.680327</td>\n",
       "      <td>-0.220078</td>\n",
       "      <td>1.000000</td>\n",
       "      <td>-0.061211</td>\n",
       "      <td>-0.049289</td>\n",
       "      <td>-0.211372</td>\n",
       "      <td>-0.052846</td>\n",
       "      <td>0.017354</td>\n",
       "    </tr>\n",
       "    <tr>\n",
       "      <th>Density</th>\n",
       "      <td>-0.311580</td>\n",
       "      <td>0.327060</td>\n",
       "      <td>0.180956</td>\n",
       "      <td>0.448573</td>\n",
       "      <td>0.212535</td>\n",
       "      <td>-0.024777</td>\n",
       "      <td>-0.060957</td>\n",
       "      <td>-0.082451</td>\n",
       "      <td>-0.196949</td>\n",
       "      <td>0.331663</td>\n",
       "      <td>-0.061211</td>\n",
       "      <td>1.000000</td>\n",
       "      <td>0.811095</td>\n",
       "      <td>0.623793</td>\n",
       "      <td>0.812047</td>\n",
       "      <td>-0.306605</td>\n",
       "    </tr>\n",
       "    <tr>\n",
       "      <th>sars_confirmed</th>\n",
       "      <td>-0.340559</td>\n",
       "      <td>0.408418</td>\n",
       "      <td>0.163459</td>\n",
       "      <td>0.546438</td>\n",
       "      <td>0.031089</td>\n",
       "      <td>-0.059583</td>\n",
       "      <td>-0.186375</td>\n",
       "      <td>0.067726</td>\n",
       "      <td>-0.374484</td>\n",
       "      <td>0.553792</td>\n",
       "      <td>-0.049289</td>\n",
       "      <td>0.811095</td>\n",
       "      <td>1.000000</td>\n",
       "      <td>0.888765</td>\n",
       "      <td>0.999790</td>\n",
       "      <td>-0.347401</td>\n",
       "    </tr>\n",
       "    <tr>\n",
       "      <th>sars_deaths</th>\n",
       "      <td>-0.362809</td>\n",
       "      <td>0.526138</td>\n",
       "      <td>0.211920</td>\n",
       "      <td>0.650076</td>\n",
       "      <td>-0.351808</td>\n",
       "      <td>-0.037001</td>\n",
       "      <td>-0.308508</td>\n",
       "      <td>-0.042564</td>\n",
       "      <td>-0.290197</td>\n",
       "      <td>0.624078</td>\n",
       "      <td>-0.211372</td>\n",
       "      <td>0.623793</td>\n",
       "      <td>0.888765</td>\n",
       "      <td>1.000000</td>\n",
       "      <td>0.891819</td>\n",
       "      <td>-0.375561</td>\n",
       "    </tr>\n",
       "    <tr>\n",
       "      <th>sars_recovered</th>\n",
       "      <td>-0.340719</td>\n",
       "      <td>0.412111</td>\n",
       "      <td>0.166018</td>\n",
       "      <td>0.550158</td>\n",
       "      <td>0.025850</td>\n",
       "      <td>-0.059065</td>\n",
       "      <td>-0.189960</td>\n",
       "      <td>0.063605</td>\n",
       "      <td>-0.372657</td>\n",
       "      <td>0.555360</td>\n",
       "      <td>-0.052846</td>\n",
       "      <td>0.812047</td>\n",
       "      <td>0.999790</td>\n",
       "      <td>0.891819</td>\n",
       "      <td>1.000000</td>\n",
       "      <td>-0.347551</td>\n",
       "    </tr>\n",
       "    <tr>\n",
       "      <th>Day_number</th>\n",
       "      <td>0.960475</td>\n",
       "      <td>0.094729</td>\n",
       "      <td>0.109156</td>\n",
       "      <td>0.039169</td>\n",
       "      <td>0.164734</td>\n",
       "      <td>0.044460</td>\n",
       "      <td>0.088948</td>\n",
       "      <td>-0.084024</td>\n",
       "      <td>0.197141</td>\n",
       "      <td>-0.282099</td>\n",
       "      <td>0.017354</td>\n",
       "      <td>-0.306605</td>\n",
       "      <td>-0.347401</td>\n",
       "      <td>-0.375561</td>\n",
       "      <td>-0.347551</td>\n",
       "      <td>1.000000</td>\n",
       "    </tr>\n",
       "  </tbody>\n",
       "</table>\n",
       "</div>"
      ],
      "text/plain": [
       "                     SNo  Confirmed    Deaths  Recovered  eb_confirmed  \\\n",
       "SNo             1.000000   0.097978  0.092903  -0.021887      0.154750   \n",
       "Confirmed       0.097978   1.000000  0.624327   0.780421     -0.319831   \n",
       "Deaths          0.092903   0.624327  1.000000   0.607508     -0.134172   \n",
       "Recovered      -0.021887   0.780421  0.607508   1.000000     -0.312230   \n",
       "eb_confirmed    0.154750  -0.319831 -0.134172  -0.312230      1.000000   \n",
       "eb_deaths       0.052291  -0.058056 -0.018404  -0.033615      0.454031   \n",
       "mers_confirmed  0.075877  -0.121547 -0.051787  -0.155692      0.243736   \n",
       "life_exp_score -0.107676   0.074350  0.050519  -0.017537      0.005669   \n",
       "0-14            0.213764  -0.268793 -0.114423  -0.222744      0.036515   \n",
       "15-65          -0.286735   0.430448  0.141002   0.477968     -0.286301   \n",
       "Over 65         0.001741  -0.064374  0.009976  -0.161073      0.211202   \n",
       "Density        -0.311580   0.327060  0.180956   0.448573      0.212535   \n",
       "sars_confirmed -0.340559   0.408418  0.163459   0.546438      0.031089   \n",
       "sars_deaths    -0.362809   0.526138  0.211920   0.650076     -0.351808   \n",
       "sars_recovered -0.340719   0.412111  0.166018   0.550158      0.025850   \n",
       "Day_number      0.960475   0.094729  0.109156   0.039169      0.164734   \n",
       "\n",
       "                eb_deaths  mers_confirmed  life_exp_score      0-14     15-65  \\\n",
       "SNo              0.052291        0.075877       -0.107676  0.213764 -0.286735   \n",
       "Confirmed       -0.058056       -0.121547        0.074350 -0.268793  0.430448   \n",
       "Deaths          -0.018404       -0.051787        0.050519 -0.114423  0.141002   \n",
       "Recovered       -0.033615       -0.155692       -0.017537 -0.222744  0.477968   \n",
       "eb_confirmed     0.454031        0.243736        0.005669  0.036515 -0.286301   \n",
       "eb_deaths        1.000000       -0.023862       -0.235837  0.211838 -0.163883   \n",
       "mers_confirmed  -0.023862        1.000000        0.068869 -0.019552  0.134370   \n",
       "life_exp_score  -0.235837        0.068869        1.000000 -0.775788  0.193412   \n",
       "0-14             0.211838       -0.019552       -0.775788  1.000000 -0.565178   \n",
       "15-65           -0.163883        0.134370        0.193412 -0.565178  1.000000   \n",
       "Over 65         -0.104502       -0.096184        0.745087 -0.680327 -0.220078   \n",
       "Density         -0.024777       -0.060957       -0.082451 -0.196949  0.331663   \n",
       "sars_confirmed  -0.059583       -0.186375        0.067726 -0.374484  0.553792   \n",
       "sars_deaths     -0.037001       -0.308508       -0.042564 -0.290197  0.624078   \n",
       "sars_recovered  -0.059065       -0.189960        0.063605 -0.372657  0.555360   \n",
       "Day_number       0.044460        0.088948       -0.084024  0.197141 -0.282099   \n",
       "\n",
       "                 Over 65   Density  sars_confirmed  sars_deaths  \\\n",
       "SNo             0.001741 -0.311580       -0.340559    -0.362809   \n",
       "Confirmed      -0.064374  0.327060        0.408418     0.526138   \n",
       "Deaths          0.009976  0.180956        0.163459     0.211920   \n",
       "Recovered      -0.161073  0.448573        0.546438     0.650076   \n",
       "eb_confirmed    0.211202  0.212535        0.031089    -0.351808   \n",
       "eb_deaths      -0.104502 -0.024777       -0.059583    -0.037001   \n",
       "mers_confirmed -0.096184 -0.060957       -0.186375    -0.308508   \n",
       "life_exp_score  0.745087 -0.082451        0.067726    -0.042564   \n",
       "0-14           -0.680327 -0.196949       -0.374484    -0.290197   \n",
       "15-65          -0.220078  0.331663        0.553792     0.624078   \n",
       "Over 65         1.000000 -0.061211       -0.049289    -0.211372   \n",
       "Density        -0.061211  1.000000        0.811095     0.623793   \n",
       "sars_confirmed -0.049289  0.811095        1.000000     0.888765   \n",
       "sars_deaths    -0.211372  0.623793        0.888765     1.000000   \n",
       "sars_recovered -0.052846  0.812047        0.999790     0.891819   \n",
       "Day_number      0.017354 -0.306605       -0.347401    -0.375561   \n",
       "\n",
       "                sars_recovered  Day_number  \n",
       "SNo                  -0.340719    0.960475  \n",
       "Confirmed             0.412111    0.094729  \n",
       "Deaths                0.166018    0.109156  \n",
       "Recovered             0.550158    0.039169  \n",
       "eb_confirmed          0.025850    0.164734  \n",
       "eb_deaths            -0.059065    0.044460  \n",
       "mers_confirmed       -0.189960    0.088948  \n",
       "life_exp_score        0.063605   -0.084024  \n",
       "0-14                 -0.372657    0.197141  \n",
       "15-65                 0.555360   -0.282099  \n",
       "Over 65              -0.052846    0.017354  \n",
       "Density               0.812047   -0.306605  \n",
       "sars_confirmed        0.999790   -0.347401  \n",
       "sars_deaths           0.891819   -0.375561  \n",
       "sars_recovered        1.000000   -0.347551  \n",
       "Day_number           -0.347551    1.000000  "
      ]
     },
     "execution_count": 601,
     "metadata": {},
     "output_type": "execute_result"
    }
   ],
   "source": [
    "cor_comp_2.corr()"
   ]
  },
  {
   "cell_type": "code",
   "execution_count": 51,
   "metadata": {},
   "outputs": [],
   "source": [
    "cor_comp_2 = cor_comp_model.copy()"
   ]
  },
  {
   "cell_type": "code",
   "execution_count": 52,
   "metadata": {},
   "outputs": [
    {
     "name": "stderr",
     "output_type": "stream",
     "text": [
      "c:\\users\\owner\\appdata\\local\\programs\\python\\python37\\lib\\site-packages\\pandas\\core\\series.py:856: RuntimeWarning: divide by zero encountered in log\n",
      "  result = getattr(ufunc, method)(*inputs, **kwargs)\n"
     ]
    }
   ],
   "source": [
    "# apply log to selected columns\n",
    "cor_comp_2[['Confirmed','Deaths','Recovered','eb_confirmed','eb_deaths', 'mers_confirmed', 'Density'\n",
    "         , 'sars_confirmed', 'sars_deaths', 'sars_recovered']] = cor_comp_model[['Confirmed','Deaths','Recovered','eb_confirmed','eb_deaths', 'mers_confirmed', 'Density'\n",
    "         , 'sars_confirmed', 'sars_deaths', 'sars_recovered']].apply(lambda x:np.log(x))\n",
    "\n",
    "cor_comp_2.replace([np.inf, -np.inf], 0, inplace=True)\n"
   ]
  },
  {
   "cell_type": "code",
   "execution_count": 53,
   "metadata": {},
   "outputs": [],
   "source": [
    "regr = linear_model.LinearRegression()"
   ]
  },
  {
   "cell_type": "code",
   "execution_count": 54,
   "metadata": {},
   "outputs": [],
   "source": [
    "# 'eb_deaths','life_exp_score','Over 65','Day_number','sars_recovered', 'mers_confirmed', '0-14',sars_deaths\n",
    "x = cor_comp_2[['Density', 'eb_confirmed', 'eb_deaths',\n",
    "          'sars_confirmed','15-65','life_exp_score','mers_confirmed','Over 65','sars_deaths']]\n",
    "y = cor_comp_2['Confirmed']\n",
    "# x.replace([np.inf, -np.inf], 0, inplace=True) \n",
    "# y.replace([np.inf, -np.inf], 0, inplace=True)"
   ]
  },
  {
   "cell_type": "code",
   "execution_count": 55,
   "metadata": {},
   "outputs": [],
   "source": [
    "from sklearn.impute import KNNImputer"
   ]
  },
  {
   "cell_type": "code",
   "execution_count": 56,
   "metadata": {},
   "outputs": [],
   "source": [
    "imputer = KNNImputer(n_neighbors=10)"
   ]
  },
  {
   "cell_type": "code",
   "execution_count": 57,
   "metadata": {},
   "outputs": [],
   "source": [
    "x = imputer.fit_transform(x)\n",
    "# y = np.reshape(y, (-1,1))\n",
    "# y = imputer.fit_transform(y)"
   ]
  },
  {
   "cell_type": "code",
   "execution_count": 58,
   "metadata": {},
   "outputs": [],
   "source": [
    "split_75 = int(len(x)*0.75)"
   ]
  },
  {
   "cell_type": "code",
   "execution_count": 59,
   "metadata": {},
   "outputs": [],
   "source": [
    "split_75 = int(len(x)*0.75)\n",
    "x_train, x_test = x[:split_75], x[split_75:]\n",
    "y_train, y_test = y[:split_75], y[split_75:]"
   ]
  },
  {
   "cell_type": "code",
   "execution_count": 60,
   "metadata": {},
   "outputs": [],
   "source": [
    "model = regr.fit(x_train, y_train)"
   ]
  },
  {
   "cell_type": "code",
   "execution_count": 61,
   "metadata": {},
   "outputs": [],
   "source": [
    "y_pred = model.predict(x_test)"
   ]
  },
  {
   "cell_type": "code",
   "execution_count": 62,
   "metadata": {},
   "outputs": [],
   "source": [
    "rms = sqrt(mean_squared_error(y_test, y_pred))"
   ]
  },
  {
   "cell_type": "code",
   "execution_count": 63,
   "metadata": {},
   "outputs": [
    {
     "data": {
      "text/plain": [
       "1.412978085391468"
      ]
     },
     "execution_count": 63,
     "metadata": {},
     "output_type": "execute_result"
    }
   ],
   "source": [
    "rms"
   ]
  },
  {
   "cell_type": "code",
   "execution_count": 64,
   "metadata": {},
   "outputs": [
    {
     "data": {
      "text/plain": [
       "array([8.37488787e+01, 2.20631835e+02, 2.73233416e+02, 1.07818661e+01,\n",
       "       6.79578032e+00, 2.25390259e+00, 1.53169981e+04, 1.05635202e+01,\n",
       "       1.13550791e+02, 2.66252861e+00, 2.49050924e+02, 1.02944819e+02,\n",
       "       1.63954768e+02, 1.59296778e+01, 8.07156196e+02, 1.44328255e+03,\n",
       "       1.21156204e+02, 1.24541653e+01, 4.61959794e+00, 1.02478128e+03])"
      ]
     },
     "execution_count": 64,
     "metadata": {},
     "output_type": "execute_result"
    }
   ],
   "source": [
    "np.exp(y_pred[0:20])"
   ]
  },
  {
   "cell_type": "code",
   "execution_count": 69,
   "metadata": {},
   "outputs": [
    {
     "data": {
      "text/plain": [
       "174                      US\n",
       "175                 Ukraine\n",
       "176    United Arab Emirates\n",
       "177                 Uruguay\n",
       "Name: Country, dtype: object"
      ]
     },
     "execution_count": 69,
     "metadata": {},
     "output_type": "execute_result"
    }
   ],
   "source": [
    "cor_comp_model[split_75:][27:31]['Country']"
   ]
  },
  {
   "cell_type": "code",
   "execution_count": 75,
   "metadata": {},
   "outputs": [
    {
     "data": {
      "text/plain": [
       "147    5.613128\n",
       "148    3.433987\n",
       "149    4.634729\n",
       "150    1.791759\n",
       "151    5.843544\n",
       "Name: Confirmed, dtype: float64"
      ]
     },
     "execution_count": 75,
     "metadata": {},
     "output_type": "execute_result"
    }
   ],
   "source": [
    "y_test[6:11]"
   ]
  },
  {
   "cell_type": "code",
   "execution_count": 71,
   "metadata": {},
   "outputs": [
    {
     "data": {
      "text/plain": [
       "array([0.8126632 , 9.63671847, 2.35740657, 4.73225024, 0.97927628])"
      ]
     },
     "execution_count": 71,
     "metadata": {},
     "output_type": "execute_result"
    }
   ],
   "source": [
    "y_pred[5:10]"
   ]
  },
  {
   "cell_type": "code",
   "execution_count": 74,
   "metadata": {},
   "outputs": [
    {
     "data": {
      "text/plain": [
       "Text(0.5, 1.0, 'COV-19 Predictions Based on Linear Regression Model')"
      ]
     },
     "execution_count": 74,
     "metadata": {},
     "output_type": "execute_result"
    },
    {
     "data": {
      "image/png": "[encoded data removed]",
      "text/plain": [
       "<Figure size 432x288 with 1 Axes>"
      ]
     },
     "metadata": {
      "needs_background": "light"
     },
     "output_type": "display_data"
    }
   ],
   "source": [
    "plt.plot(list(cor_comp_model[split_75:][27:31]['Country']), np.exp(y_pred[27:31]), color='#1f77b4')\n",
    "plt.plot(list(cor_comp_model[split_75:][27:31]['Country']), np.exp(y_test[27:31]), color = 'orange')\n",
    "plt.legend(labels=['Predicted Cases', 'Actual Cases'])\n",
    "plt.xlabel('Country')\n",
    "plt.ylabel('Number of Confirmed Cases')\n",
    "plt.title('COV-19 Predictions Based on Linear Regression Model')\n",
    "# plt.ylim(0,50000)"
   ]
  },
  {
   "cell_type": "code",
   "execution_count": 69,
   "metadata": {},
   "outputs": [
    {
     "data": {
      "text/plain": [
       "Text(0.5, 1.0, 'Cov-19 and Health Systems')"
      ]
     },
     "execution_count": 69,
     "metadata": {},
     "output_type": "execute_result"
    },
    {
     "data": {
      "image/png": "[encoded data removed]",
      "text/plain": [
       "<Figure size 432x288 with 1 Axes>"
      ]
     },
     "metadata": {
      "needs_background": "light"
     },
     "output_type": "display_data"
    }
   ],
   "source": [
    "plt.scatter(np.log(cor_comp_model['Confirmed']), (cor_comp_model['life_exp_score']), color='purple')\n",
    "plt.xlabel('Log Number of Cov-19 Confirmed Cases')\n",
    "plt.ylabel('Life Expectancy Score')\n",
    "plt.title('Cov-19 and Health Systems')"
   ]
  },
  {
   "cell_type": "code",
   "execution_count": 74,
   "metadata": {},
   "outputs": [
    {
     "data": {
      "text/plain": [
       "Text(0.5, 1.0, 'Cov-19 and Health Systems')"
      ]
     },
     "execution_count": 74,
     "metadata": {},
     "output_type": "execute_result"
    },
    {
     "data": {
      "image/png": "[encoded data removed]",
      "text/plain": [
       "<Figure size 432x288 with 1 Axes>"
      ]
     },
     "metadata": {
      "needs_background": "light"
     },
     "output_type": "display_data"
    }
   ],
   "source": [
    "plt.scatter(np.log(cor_comp_model['Deaths']), (cor_comp_model['life_exp_score']), color='purple')\n",
    "plt.xlabel('Log Number of Cov-19 Deceased Cases')\n",
    "plt.ylabel('Life Expectancy Score')\n",
    "plt.title('Cov-19 and Health Systems')"
   ]
  },
  {
   "cell_type": "code",
   "execution_count": 215,
   "metadata": {},
   "outputs": [
    {
     "data": {
      "text/plain": [
       "Text(0.5, 1.0, 'Cov-19 and Health Systems')"
      ]
     },
     "execution_count": 215,
     "metadata": {},
     "output_type": "execute_result"
    },
    {
     "data": {
      "image/png": "[encoded data removed]",
      "text/plain": [
       "<Figure size 432x288 with 1 Axes>"
      ]
     },
     "metadata": {
      "needs_background": "light"
     },
     "output_type": "display_data"
    }
   ],
   "source": [
    "plt.scatter(np.log(cor_comp_model['Confirmed']), np.log(cor_comp_model['sars_confirmed']), color='red')\n",
    "plt.xlabel('Log Number of Cov-19 Confirmed Cases')\n",
    "plt.ylabel('Life Expectancy Score')\n",
    "plt.title('Cov-19 and Health Systems')"
   ]
  },
  {
   "cell_type": "code",
   "execution_count": 228,
   "metadata": {},
   "outputs": [
    {
     "name": "stderr",
     "output_type": "stream",
     "text": [
      "c:\\users\\owner\\appdata\\local\\programs\\python\\python37\\lib\\site-packages\\pandas\\core\\series.py:856: RuntimeWarning: divide by zero encountered in log\n",
      "  result = getattr(ufunc, method)(*inputs, **kwargs)\n"
     ]
    },
    {
     "data": {
      "text/plain": [
       "Text(0.5, 1.0, 'Cov-19 and Health Systems')"
      ]
     },
     "execution_count": 228,
     "metadata": {},
     "output_type": "execute_result"
    },
    {
     "data": {
      "image/png": "[encoded data removed]",
      "text/plain": [
       "<Figure size 432x288 with 1 Axes>"
      ]
     },
     "metadata": {
      "needs_background": "light"
     },
     "output_type": "display_data"
    }
   ],
   "source": [
    "plt.scatter(np.log(cor_comp_model['Confirmed']), np.log(cor_comp_model['mers_confirmed']), color='red')\n",
    "plt.xlabel('Log Number of Cov-19 Confirmed Cases')\n",
    "plt.ylabel('Life Expectancy Score')\n",
    "plt.title('Cov-19 and Health Systems')"
   ]
  },
  {
   "cell_type": "code",
   "execution_count": 221,
   "metadata": {},
   "outputs": [
    {
     "data": {
      "text/plain": [
       "Text(0.5, 1.0, 'Cov-19 and Population Density')"
      ]
     },
     "execution_count": 221,
     "metadata": {},
     "output_type": "execute_result"
    },
    {
     "data": {
      "image/png": "[encoded data removed]",
      "text/plain": [
       "<Figure size 432x288 with 1 Axes>"
      ]
     },
     "metadata": {
      "needs_background": "light"
     },
     "output_type": "display_data"
    }
   ],
   "source": [
    "plt.scatter(np.log(cor_comp_model['Confirmed']), np.log(cor_comp_model['Density']), color='brown')\n",
    "plt.xlabel('Log Number of Cov-19 Confirmed Cases')\n",
    "plt.ylabel('Population Density')\n",
    "plt.title('Cov-19 and Population Density')"
   ]
  },
  {
   "cell_type": "code",
   "execution_count": 220,
   "metadata": {},
   "outputs": [
    {
     "data": {
      "text/plain": [
       "Text(0.5, 1.0, 'Cov-19 and Density')"
      ]
     },
     "execution_count": 220,
     "metadata": {},
     "output_type": "execute_result"
    },
    {
     "data": {
      "image/png": "[encoded data removed]",
      "text/plain": [
       "<Figure size 432x288 with 1 Axes>"
      ]
     },
     "metadata": {
      "needs_background": "light"
     },
     "output_type": "display_data"
    }
   ],
   "source": [
    "plt.scatter(np.log(cor_comp_model['Deaths']), np.log(cor_comp_model['Density']), color='brown')\n",
    "plt.xlabel('Log Number of Cov-19 Deceased Cases')\n",
    "plt.ylabel('Population Density')\n",
    "plt.title('Cov-19 and Density')"
   ]
  },
  {
   "cell_type": "code",
   "execution_count": 81,
   "metadata": {},
   "outputs": [
    {
     "data": {
      "text/plain": [
       "Text(0.5, 1.0, 'Cov-19 and Population')"
      ]
     },
     "execution_count": 81,
     "metadata": {},
     "output_type": "execute_result"
    },
    {
     "data": {
      "image/png": "[encoded data removed]",
      "text/plain": [
       "<Figure size 432x288 with 1 Axes>"
      ]
     },
     "metadata": {
      "needs_background": "light"
     },
     "output_type": "display_data"
    }
   ],
   "source": [
    "plt.scatter(np.log(cor_comp_model['Confirmed']), (cor_comp_model['15-65']), color='Orange')\n",
    "plt.xlabel('Log Number of Cov-19 Confirmed Cases')\n",
    "plt.ylabel('Population 15-65 Age Ratio')\n",
    "plt.title('Cov-19 and Population')"
   ]
  },
  {
   "cell_type": "code",
   "execution_count": 82,
   "metadata": {},
   "outputs": [
    {
     "data": {
      "text/plain": [
       "Text(0.5, 1.0, 'Cov-19 and Population')"
      ]
     },
     "execution_count": 82,
     "metadata": {},
     "output_type": "execute_result"
    },
    {
     "data": {
      "image/png": "[encoded data removed]",
      "text/plain": [
       "<Figure size 432x288 with 1 Axes>"
      ]
     },
     "metadata": {
      "needs_background": "light"
     },
     "output_type": "display_data"
    }
   ],
   "source": [
    "plt.scatter(np.log(cor_comp_model['Confirmed']), (cor_comp_model['Over 65']), color='Orange')\n",
    "plt.xlabel('Log Number of Cov-19 Confirmed Cases')\n",
    "plt.ylabel('Population Over 65 Age Ratio')\n",
    "plt.title('Cov-19 and Population')"
   ]
  },
  {
   "cell_type": "code",
   "execution_count": 80,
   "metadata": {},
   "outputs": [
    {
     "data": {
      "text/plain": [
       "Text(0.5, 1.0, 'Cov-19 and Population')"
      ]
     },
     "execution_count": 80,
     "metadata": {},
     "output_type": "execute_result"
    },
    {
     "data": {
      "image/png": "[encoded data removed]",
      "text/plain": [
       "<Figure size 432x288 with 1 Axes>"
      ]
     },
     "metadata": {
      "needs_background": "light"
     },
     "output_type": "display_data"
    }
   ],
   "source": [
    "plt.scatter(np.log(cor_comp_model['Deaths']), (cor_comp_model['Over 65']), color='Orange')\n",
    "plt.xlabel('Log Number of Cov-19 Confirmed Cases')\n",
    "plt.ylabel('Population Over 65 Ratio')\n",
    "plt.title('Cov-19 and Population')"
   ]
  },
  {
   "cell_type": "code",
   "execution_count": 219,
   "metadata": {},
   "outputs": [
    {
     "data": {
      "text/plain": [
       "Text(0.5, 1.0, 'Cov-19 and Population')"
      ]
     },
     "execution_count": 219,
     "metadata": {},
     "output_type": "execute_result"
    },
    {
     "data": {
      "image/png": "[encoded data removed]",
      "text/plain": [
       "<Figure size 432x288 with 1 Axes>"
      ]
     },
     "metadata": {
      "needs_background": "light"
     },
     "output_type": "display_data"
    }
   ],
   "source": [
    "plt.scatter(np.log(cor_comp_model['Confirmed']), (cor_comp_model['0-14']), color='Orange')\n",
    "plt.xlabel('Log Number of Cov-19 Confirmed Cases')\n",
    "plt.ylabel('Population 0-14 Age Ratio')\n",
    "plt.title('Cov-19 and Population')"
   ]
  },
  {
   "cell_type": "code",
   "execution_count": 330,
   "metadata": {},
   "outputs": [
    {
     "data": {
      "text/plain": [
       "1.1e+163"
      ]
     },
     "execution_count": 330,
     "metadata": {},
     "output_type": "execute_result"
    }
   ],
   "source": [
    "0.11e164"
   ]
  },
  {
   "cell_type": "code",
   "execution_count": 83,
   "metadata": {},
   "outputs": [],
   "source": [
    "top_sars = cor_comp_model.sort_values(by='sars_confirmed', ascending=False, inplace=False, kind='quicksort', na_position='last')[:5]"
   ]
  },
  {
   "cell_type": "code",
   "execution_count": 84,
   "metadata": {},
   "outputs": [
    {
     "data": {
      "text/plain": [
       "<matplotlib.legend.Legend at 0x256b7d41348>"
      ]
     },
     "execution_count": 84,
     "metadata": {},
     "output_type": "execute_result"
    },
    {
     "data": {
      "image/png": "[encoded data removed]",
      "text/plain": [
       "<Figure size 432x288 with 1 Axes>"
      ]
     },
     "metadata": {
      "needs_background": "light"
     },
     "output_type": "display_data"
    }
   ],
   "source": [
    "plt.bar(top_sars['Country'],np.log(top_sars['Confirmed']), color='m')\n",
    "plt.bar(top_sars['Country'],np.log(top_sars['sars_confirmed']), color='orange')\n",
    "plt.title('SARS and COV-19 in Top 5 SARS Countries')\n",
    "plt.xlabel('Country')\n",
    "plt.ylabel('Log Number of cases')\n",
    "plt.legend(['Cov-19 Cases', 'SARS Cases'])"
   ]
  },
  {
   "cell_type": "code",
   "execution_count": 85,
   "metadata": {},
   "outputs": [],
   "source": [
    "top_conf = cor_comp_model.sort_values(by='Confirmed', ascending=False, inplace=False, kind='quicksort', na_position='last')[:5]"
   ]
  },
  {
   "cell_type": "code",
   "execution_count": 89,
   "metadata": {},
   "outputs": [
    {
     "data": {
      "text/plain": [
       "<matplotlib.legend.Legend at 0x256b7e68908>"
      ]
     },
     "execution_count": 89,
     "metadata": {},
     "output_type": "execute_result"
    },
    {
     "data": {
      "image/png": "[encoded data removed]",
      "text/plain": [
       "<Figure size 432x288 with 1 Axes>"
      ]
     },
     "metadata": {
      "needs_background": "light"
     },
     "output_type": "display_data"
    }
   ],
   "source": [
    "plt.bar(top_conf['Country'],np.log(top_conf['Confirmed']), color='m')\n",
    "plt.bar(top_conf['Country'],np.log(top_conf['sars_confirmed']), color='orange')\n",
    "plt.title('SARS and COV-19 in Top 5 COV-19 Countries')\n",
    "plt.xlabel('Country')\n",
    "plt.ylabel('Log Number of cases')\n",
    "plt.legend(['Cov-19 Cases', 'SARS Cases'])"
   ]
  },
  {
   "cell_type": "code",
   "execution_count": 90,
   "metadata": {},
   "outputs": [],
   "source": [
    "top_ebola = cor_comp_model.sort_values(by='eb_confirmed', ascending=False, inplace=False, kind='quicksort', na_position='last')[:5]"
   ]
  },
  {
   "cell_type": "code",
   "execution_count": 91,
   "metadata": {},
   "outputs": [
    {
     "data": {
      "text/plain": [
       "<matplotlib.legend.Legend at 0x256b7ee55c8>"
      ]
     },
     "execution_count": 91,
     "metadata": {},
     "output_type": "execute_result"
    },
    {
     "data": {
      "image/png": "[encoded data removed]",
      "text/plain": [
       "<Figure size 432x288 with 1 Axes>"
      ]
     },
     "metadata": {
      "needs_background": "light"
     },
     "output_type": "display_data"
    }
   ],
   "source": [
    "plt.bar(top_ebola['Country'],np.log(top_ebola['Confirmed']), color='m')\n",
    "plt.bar(top_ebola['Country'],np.log(top_ebola['eb_confirmed']), color='gray')\n",
    "plt.title('Ebola and COV-19 in Top 5 Ebola Countries')\n",
    "plt.xlabel('Country')\n",
    "plt.ylabel('Log Number of cases')\n",
    "plt.legend(['Cov-19 Cases', 'Ebola Cases'])"
   ]
  },
  {
   "cell_type": "code",
   "execution_count": 92,
   "metadata": {},
   "outputs": [
    {
     "name": "stderr",
     "output_type": "stream",
     "text": [
      "c:\\users\\owner\\appdata\\local\\programs\\python\\python37\\lib\\site-packages\\pandas\\core\\series.py:856: RuntimeWarning: divide by zero encountered in log\n",
      "  result = getattr(ufunc, method)(*inputs, **kwargs)\n"
     ]
    },
    {
     "data": {
      "text/plain": [
       "<matplotlib.legend.Legend at 0x256b8041388>"
      ]
     },
     "execution_count": 92,
     "metadata": {},
     "output_type": "execute_result"
    },
    {
     "data": {
      "image/png": "[encoded data removed]",
      "text/plain": [
       "<Figure size 432x288 with 1 Axes>"
      ]
     },
     "metadata": {
      "needs_background": "light"
     },
     "output_type": "display_data"
    }
   ],
   "source": [
    "plt.bar(top_conf['Country'],np.log(top_conf['Confirmed']), color='m')\n",
    "plt.bar(top_conf['Country'],np.log(top_conf['eb_confirmed']), color='gray')\n",
    "plt.title('Ebola and COV-19 in Top 5 Ebola Countries')\n",
    "plt.xlabel('Country')\n",
    "plt.ylabel('Log Number of cases')\n",
    "plt.legend(['Cov-19 Cases', 'Ebola Cases'])"
   ]
  },
  {
   "cell_type": "code",
   "execution_count": null,
   "metadata": {},
   "outputs": [],
   "source": []
  }
 ],
 "metadata": {
  "kernelspec": {
   "display_name": "Python 3",
   "language": "python",
   "name": "python3"
  },
  "language_info": {
   "codemirror_mode": {
    "name": "ipython",
    "version": 3
   },
   "file_extension": ".py",
   "mimetype": "text/x-python",
   "name": "python",
   "nbconvert_exporter": "python",
   "pygments_lexer": "ipython3",
   "version": "3.7.5"
  }
 },
 "nbformat": 4,
 "nbformat_minor": 2
}
